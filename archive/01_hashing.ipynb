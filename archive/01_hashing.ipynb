{
 "cells": [
  {
   "cell_type": "markdown",
   "metadata": {},
   "source": [
    "## Random Binary File Generator"
   ]
  },
  {
   "cell_type": "code",
   "execution_count": null,
   "metadata": {},
   "outputs": [],
   "source": [
    "import os\n",
    "\n",
    "def create_zero_filled_binary_file(file_name: str, size_in_bytes: int):\n",
    "    \"\"\"\n",
    "    Create a zero-filled binary file.\n",
    "    \"\"\"\n",
    "    with open(file_name, 'wb') as binary_file:\n",
    "        binary_file.write(b'\\x00' * size_in_bytes)\n",
    "\n",
    "def create_repeated_pattern_binary_file(file_name: str, pattern: bytes, size_in_bytes: int):\n",
    "    \"\"\"\n",
    "    Create a binary file with a repeated pattern.\n",
    "    \"\"\"\n",
    "    with open(file_name, 'wb') as binary_file:\n",
    "        binary_file.write(pattern * (size_in_bytes // len(pattern)))\n",
    "\n",
    "def create_random_binary_file(file_name: str, size_in_bytes: int):\n",
    "    \"\"\"\n",
    "    Create a random binary file.\n",
    "    \"\"\"\n",
    "    with open(file_name, 'wb') as binary_file:\n",
    "        binary_file.write(os.urandom(size_in_bytes))\n",
    "\n",
    "def generate_files_for_multiple_sizes(sizes_in_bytes, output_folder=\"test_data\"):\n",
    "    \"\"\"\n",
    "    Generate multiple binary files of varying sizes for all types: zero-filled, repeated-pattern, random.\n",
    "    \"\"\"\n",
    "    os.makedirs(output_folder, exist_ok=True)  # Ensure output folder exists\n",
    "\n",
    "    for size in sizes_in_bytes:\n",
    "        # Define file names\n",
    "        zero_file_name = os.path.join(output_folder, f\"zero_filled_{size}B.bin\")\n",
    "        pattern_file_name = os.path.join(output_folder, f\"repeated_pattern_{size}B.bin\")\n",
    "        random_file_name = os.path.join(output_folder, f\"random_data_{size}B.bin\")\n",
    "\n",
    "        # Generate files\n",
    "        create_zero_filled_binary_file(zero_file_name, size)\n",
    "        create_repeated_pattern_binary_file(pattern_file_name, b'AB', size)\n",
    "        create_random_binary_file(random_file_name, size)\n",
    "\n",
    "    print(f\"Files of sizes {sizes_in_bytes} bytes have been created in the '{output_folder}' folder.\")\n",
    "\n",
    "# Specify sizes in bytes\n",
    "file_sizes = [1024, 2048, 4096, 8192, 16384]  # 1KB, 2KB, 4KB, 8KB, 16KB\n",
    "\n",
    "# Generate files\n",
    "generate_files_for_multiple_sizes(file_sizes)"
   ]
  }
 ],
 "metadata": {
  "kernelspec": {
   "display_name": "base",
   "language": "python",
   "name": "python3"
  },
  "language_info": {
   "name": "python",
   "version": "3.12.4"
  }
 },
 "nbformat": 4,
 "nbformat_minor": 2
}
